{
 "cells": [
  {
   "cell_type": "code",
   "execution_count": 1,
   "metadata": {},
   "outputs": [],
   "source": [
    "import numpy as np\n",
    "import pandas as pd\n",
    "import matplotlib.pyplot as plt\n",
    "import seaborn as sns\n",
    "\n",
    "from sklearn.metrics import mean_squared_error,r2_score\n",
    "from sklearn.neighbors import KNeighborsRegressor\n",
    "from sklearn.tree import DecisionTreeRegressor\n",
    "from sklearn.ensemble import RandomForestRegressor,AdaBoostRegressor\n",
    "from sklearn.svm import SVR\n",
    "from sklearn.linear_model import LinearRegression,Ridge,Lasso\n",
    "from sklearn.metrics  import r2_score,mean_absolute_error,mean_squared_error\n",
    "from sklearn.model_selection import RandomizedSearchCV\n"
   ]
  },
  {
   "cell_type": "markdown",
   "metadata": {},
   "source": [
    "## Import the data"
   ]
  },
  {
   "cell_type": "code",
   "execution_count": 2,
   "metadata": {},
   "outputs": [],
   "source": [
    "df = pd.read_csv('stud.csv')"
   ]
  },
  {
   "cell_type": "code",
   "execution_count": 3,
   "metadata": {},
   "outputs": [],
   "source": [
    "df.drop(columns=['Unnamed: 0'],axis=1,inplace=True)"
   ]
  },
  {
   "cell_type": "code",
   "execution_count": 4,
   "metadata": {},
   "outputs": [
    {
     "data": {
      "text/html": [
       "<div>\n",
       "<style scoped>\n",
       "    .dataframe tbody tr th:only-of-type {\n",
       "        vertical-align: middle;\n",
       "    }\n",
       "\n",
       "    .dataframe tbody tr th {\n",
       "        vertical-align: top;\n",
       "    }\n",
       "\n",
       "    .dataframe thead th {\n",
       "        text-align: right;\n",
       "    }\n",
       "</style>\n",
       "<table border=\"1\" class=\"dataframe\">\n",
       "  <thead>\n",
       "    <tr style=\"text-align: right;\">\n",
       "      <th></th>\n",
       "      <th>gender</th>\n",
       "      <th>race_ethnicity</th>\n",
       "      <th>parental_level_of_education</th>\n",
       "      <th>lunch</th>\n",
       "      <th>test_preparation_course</th>\n",
       "      <th>reading_score</th>\n",
       "      <th>writing_score</th>\n",
       "    </tr>\n",
       "  </thead>\n",
       "  <tbody>\n",
       "    <tr>\n",
       "      <th>0</th>\n",
       "      <td>female</td>\n",
       "      <td>group B</td>\n",
       "      <td>bachelor's degree</td>\n",
       "      <td>standard</td>\n",
       "      <td>none</td>\n",
       "      <td>72</td>\n",
       "      <td>74</td>\n",
       "    </tr>\n",
       "    <tr>\n",
       "      <th>1</th>\n",
       "      <td>female</td>\n",
       "      <td>group C</td>\n",
       "      <td>some college</td>\n",
       "      <td>standard</td>\n",
       "      <td>completed</td>\n",
       "      <td>90</td>\n",
       "      <td>88</td>\n",
       "    </tr>\n",
       "    <tr>\n",
       "      <th>2</th>\n",
       "      <td>female</td>\n",
       "      <td>group B</td>\n",
       "      <td>master's degree</td>\n",
       "      <td>standard</td>\n",
       "      <td>none</td>\n",
       "      <td>95</td>\n",
       "      <td>93</td>\n",
       "    </tr>\n",
       "    <tr>\n",
       "      <th>3</th>\n",
       "      <td>male</td>\n",
       "      <td>group A</td>\n",
       "      <td>associate's degree</td>\n",
       "      <td>free/reduced</td>\n",
       "      <td>none</td>\n",
       "      <td>57</td>\n",
       "      <td>44</td>\n",
       "    </tr>\n",
       "    <tr>\n",
       "      <th>4</th>\n",
       "      <td>male</td>\n",
       "      <td>group C</td>\n",
       "      <td>some college</td>\n",
       "      <td>standard</td>\n",
       "      <td>none</td>\n",
       "      <td>78</td>\n",
       "      <td>75</td>\n",
       "    </tr>\n",
       "  </tbody>\n",
       "</table>\n",
       "</div>"
      ],
      "text/plain": [
       "   gender race_ethnicity parental_level_of_education         lunch  \\\n",
       "0  female        group B           bachelor's degree      standard   \n",
       "1  female        group C                some college      standard   \n",
       "2  female        group B             master's degree      standard   \n",
       "3    male        group A          associate's degree  free/reduced   \n",
       "4    male        group C                some college      standard   \n",
       "\n",
       "  test_preparation_course  reading_score  writing_score  \n",
       "0                    none             72             74  \n",
       "1               completed             90             88  \n",
       "2                    none             95             93  \n",
       "3                    none             57             44  \n",
       "4                    none             78             75  "
      ]
     },
     "execution_count": 4,
     "metadata": {},
     "output_type": "execute_result"
    }
   ],
   "source": [
    "X = df.drop(columns=['math_score'],axis=1)\n",
    "X.head()"
   ]
  },
  {
   "cell_type": "code",
   "execution_count": 5,
   "metadata": {},
   "outputs": [
    {
     "name": "stdout",
     "output_type": "stream",
     "text": [
      "Categories in gender Variable:  ['female' 'male']\n",
      "Categories in race_ethnicity variable:  ['group B' 'group C' 'group A' 'group D' 'group E']\n",
      "Categories in parental_level_of_education  [\"bachelor's degree\" 'some college' \"master's degree\" \"associate's degree\"\n",
      " 'high school' 'some high school']\n",
      "categories in lunch :  ['standard' 'free/reduced']\n",
      "categories in test_preparation_course : ['none' 'completed']\n"
     ]
    }
   ],
   "source": [
    "print(\"Categories in gender Variable: \",end=' ')\n",
    "print(df['gender'].unique())\n",
    "\n",
    "print(\"Categories in race_ethnicity variable: \",end=' ')\n",
    "print(df['race_ethnicity'].unique())\n",
    "\n",
    "print(\"Categories in parental_level_of_education \",end=\" \")\n",
    "print(df['parental_level_of_education'].unique())\n",
    "\n",
    "print(\"categories in lunch : \",end=\" \")\n",
    "print(df['lunch'].unique())\n",
    "\n",
    "print(\"categories in test_preparation_course :\",end=' ')\n",
    "print(df['test_preparation_course'].unique())\n"
   ]
  },
  {
   "cell_type": "code",
   "execution_count": 6,
   "metadata": {
    "scrolled": true
   },
   "outputs": [
    {
     "data": {
      "text/plain": [
       "0      72\n",
       "1      69\n",
       "2      90\n",
       "3      47\n",
       "4      76\n",
       "       ..\n",
       "995    88\n",
       "996    62\n",
       "997    59\n",
       "998    68\n",
       "999    77\n",
       "Name: math_score, Length: 1000, dtype: int64"
      ]
     },
     "execution_count": 6,
     "metadata": {},
     "output_type": "execute_result"
    }
   ],
   "source": [
    "y = df['math_score']\n",
    "y"
   ]
  },
  {
   "cell_type": "markdown",
   "metadata": {},
   "source": [
    "### seprate out the columns with there data types "
   ]
  },
  {
   "cell_type": "code",
   "execution_count": 7,
   "metadata": {},
   "outputs": [],
   "source": [
    "num_features = X.select_dtypes(exclude='object').columns\n",
    "cat_features = X.select_dtypes(include='object').columns\n"
   ]
  },
  {
   "cell_type": "code",
   "execution_count": 8,
   "metadata": {},
   "outputs": [
    {
     "data": {
      "text/plain": [
       "Index(['reading_score', 'writing_score'], dtype='object')"
      ]
     },
     "execution_count": 8,
     "metadata": {},
     "output_type": "execute_result"
    }
   ],
   "source": [
    "num_features"
   ]
  },
  {
   "cell_type": "code",
   "execution_count": 9,
   "metadata": {},
   "outputs": [
    {
     "data": {
      "text/plain": [
       "Index(['gender', 'race_ethnicity', 'parental_level_of_education', 'lunch',\n",
       "       'test_preparation_course'],\n",
       "      dtype='object')"
      ]
     },
     "execution_count": 9,
     "metadata": {},
     "output_type": "execute_result"
    }
   ],
   "source": [
    "cat_features"
   ]
  },
  {
   "cell_type": "code",
   "execution_count": 10,
   "metadata": {},
   "outputs": [],
   "source": [
    "from sklearn.preprocessing import OneHotEncoder,StandardScaler\n",
    "from sklearn.compose import ColumnTransformer\n",
    "\n",
    "numeric_Transformer = StandardScaler()\n",
    "ob_transformer = OneHotEncoder()\n",
    "\n",
    "preprocessor = ColumnTransformer([\n",
    "    (\"OneHotEncoder\",ob_transformer,cat_features),\n",
    "    (\"StandardScaler\",numeric_Transformer,num_features)\n",
    "])"
   ]
  },
  {
   "cell_type": "code",
   "execution_count": 11,
   "metadata": {},
   "outputs": [],
   "source": [
    "X = preprocessor.fit_transform(X)\n"
   ]
  },
  {
   "cell_type": "code",
   "execution_count": 12,
   "metadata": {},
   "outputs": [
    {
     "data": {
      "text/plain": [
       "(1000, 19)"
      ]
     },
     "execution_count": 12,
     "metadata": {},
     "output_type": "execute_result"
    }
   ],
   "source": [
    "X.shape"
   ]
  },
  {
   "cell_type": "code",
   "execution_count": 13,
   "metadata": {},
   "outputs": [],
   "source": [
    "from sklearn.model_selection import train_test_split\n",
    "\n",
    "X_train, X_test, y_train, y_test = train_test_split(X,y,test_size=0.2,random_state=42)\n",
    "\n"
   ]
  },
  {
   "cell_type": "markdown",
   "metadata": {},
   "source": [
    "### Create an Evaluate Fucation to give all metrics after model Training"
   ]
  },
  {
   "cell_type": "code",
   "execution_count": 14,
   "metadata": {},
   "outputs": [],
   "source": [
    "def evaluate_model(true,predicted):\n",
    "    mae = mean_absolute_error(true,predicted)\n",
    "    mse = mean_squared_error(true,predicted)\n",
    "    rmse = np.sqrt(mean_squared_error(true,predicted))\n",
    "    r2_square = r2_score(true,predicted)\n",
    "    return(mae,mse,rmse,r2_square)"
   ]
  },
  {
   "cell_type": "code",
   "execution_count": 16,
   "metadata": {},
   "outputs": [
    {
     "name": "stdout",
     "output_type": "stream",
     "text": [
      "Linear Regression\n",
      "Model performance for Test set\n",
      "- Mean absolute Error: 4.2169\n",
      "- Mean squared Error: 29.1319\n",
      "- Root mean Squared Error: 5.3974\n",
      "- R2 score: 0.8803\n",
      "------------------------------\n",
      "Lasso\n",
      "Model performance for Test set\n",
      "- Mean absolute Error: 5.1579\n",
      "- Mean squared Error: 42.5064\n",
      "- Root mean Squared Error: 6.5197\n",
      "- R2 score: 0.8253\n",
      "------------------------------\n",
      "Ridge\n",
      "Model performance for Test set\n",
      "- Mean absolute Error: 4.2111\n",
      "- Mean squared Error: 29.0563\n",
      "- Root mean Squared Error: 5.3904\n",
      "- R2 score: 0.8806\n",
      "------------------------------\n",
      "K-Neighbors Regressor\n",
      "Model performance for Test set\n",
      "- Mean absolute Error: 5.6780\n",
      "- Mean squared Error: 53.3776\n",
      "- Root mean Squared Error: 7.3060\n",
      "- R2 score: 0.7806\n",
      "------------------------------\n",
      "Decsion Tree\n",
      "Model performance for Test set\n",
      "- Mean absolute Error: 6.2000\n",
      "- Mean squared Error: 61.8900\n",
      "- Root mean Squared Error: 7.8670\n",
      "- R2 score: 0.7457\n",
      "------------------------------\n",
      "Random Forest Regressor\n",
      "Model performance for Test set\n",
      "- Mean absolute Error: 4.6029\n",
      "- Mean squared Error: 35.7969\n",
      "- Root mean Squared Error: 5.9831\n",
      "- R2 score: 0.8529\n",
      "------------------------------\n",
      "AdaBoost Regressor\n",
      "Model performance for Test set\n",
      "- Mean absolute Error: 4.7323\n",
      "- Mean squared Error: 37.2013\n",
      "- Root mean Squared Error: 6.0993\n",
      "- R2 score: 0.8471\n",
      "------------------------------\n"
     ]
    }
   ],
   "source": [
    "models = {\n",
    "    \"Linear Regression\": LinearRegression(),\n",
    "    'Lasso':Lasso(),\n",
    "    'Ridge':Ridge(),\n",
    "    \"K-Neighbors Regressor\": KNeighborsRegressor(),\n",
    "    \"Decsion Tree\": DecisionTreeRegressor(),\n",
    "    \"Random Forest Regressor\": RandomForestRegressor(),\n",
    "    'AdaBoost Regressor':AdaBoostRegressor()\n",
    "}\n",
    "\n",
    "Model_list =[]\n",
    "r2_list =[]\n",
    "for i in range(len(list(models))):\n",
    "    model = list(models.values())[i]\n",
    "    model.fit(X_train,y_train)\n",
    "    \n",
    "    # Make Predications\n",
    "    y_pred = model.predict(X_test)\n",
    "    \n",
    "    test_mae,test_mse,test_rmse,test_r2_square=evaluate_model(y_test,y_pred)\n",
    "    \n",
    "    \n",
    "    print(list(models.keys())[i])\n",
    "    print('Model performance for Test set')\n",
    "    print(\"- Mean absolute Error: {:.4f}\".format(test_mae))\n",
    "    print(\"- Mean squared Error: {:.4f}\".format(test_mse))\n",
    "    print(\"- Root mean Squared Error: {:.4f}\".format(test_rmse))\n",
    "    print(\"- R2 score: {:.4f}\".format(test_r2_square))\n",
    "    print(30*\"-\")\n",
    "    \n"
   ]
  },
  {
   "cell_type": "code",
   "execution_count": 17,
   "metadata": {},
   "outputs": [
    {
     "name": "stdout",
     "output_type": "stream",
     "text": [
      "Linear Regression\n",
      "Model performance for Test set\n",
      "- Mean absolute Error: 4.2169\n",
      "- Mean squared Error: 29.1319\n",
      "- Root mean Squared Error: 5.3974\n",
      "- R2 score: 0.8803\n",
      "------------------------------\n",
      "Lasso\n",
      "Model performance for Test set\n",
      "- Mean absolute Error: 5.1579\n",
      "- Mean squared Error: 42.5064\n",
      "- Root mean Squared Error: 6.5197\n",
      "- R2 score: 0.8253\n",
      "------------------------------\n",
      "Ridge\n",
      "Model performance for Test set\n",
      "- Mean absolute Error: 4.2111\n",
      "- Mean squared Error: 29.0563\n",
      "- Root mean Squared Error: 5.3904\n",
      "- R2 score: 0.8806\n",
      "------------------------------\n",
      "K-Neighbors Regressor\n",
      "Model performance for Test set\n",
      "- Mean absolute Error: 5.6780\n",
      "- Mean squared Error: 53.3776\n",
      "- Root mean Squared Error: 7.3060\n",
      "- R2 score: 0.7806\n",
      "------------------------------\n",
      "Decsion Tree\n",
      "Model performance for Test set\n",
      "- Mean absolute Error: 6.1500\n",
      "- Mean squared Error: 61.0000\n",
      "- Root mean Squared Error: 7.8102\n",
      "- R2 score: 0.7493\n",
      "------------------------------\n",
      "Random Forest Regressor\n",
      "Model performance for Test set\n",
      "- Mean absolute Error: 4.6999\n",
      "- Mean squared Error: 36.5564\n",
      "- Root mean Squared Error: 6.0462\n",
      "- R2 score: 0.8498\n",
      "------------------------------\n",
      "AdaBoost Regressor\n",
      "Model performance for Test set\n",
      "- Mean absolute Error: 4.6681\n",
      "- Mean squared Error: 36.5044\n",
      "- Root mean Squared Error: 6.0419\n",
      "- R2 score: 0.8500\n",
      "------------------------------\n"
     ]
    }
   ],
   "source": [
    "for i in range(len(list(models))):\n",
    "    model = list(models.values())[i]\n",
    "    model.fit(X_train,y_train)\n",
    "    \n",
    "    # Make Predications\n",
    "    y_pred = model.predict(X_test)\n",
    "    \n",
    "    test_mae,test_mse,test_rmse,test_r2_square=evaluate_model(y_test,y_pred)\n",
    "    \n",
    "    \n",
    "    print(list(models.keys())[i])\n",
    "    print('Model performance for Test set')\n",
    "    print(\"- Mean absolute Error: {:.4f}\".format(test_mae))\n",
    "    print(\"- Mean squared Error: {:.4f}\".format(test_mse))\n",
    "    print(\"- Root mean Squared Error: {:.4f}\".format(test_rmse))\n",
    "    print(\"- R2 score: {:.4f}\".format(test_r2_square))\n",
    "    print(30*\"-\")\n",
    "    "
   ]
  },
  {
   "cell_type": "code",
   "execution_count": 18,
   "metadata": {},
   "outputs": [
    {
     "ename": "NameError",
     "evalue": "name 'y_train_pred' is not defined",
     "output_type": "error",
     "traceback": [
      "\u001b[1;31m---------------------------------------------------------------------------\u001b[0m",
      "\u001b[1;31mNameError\u001b[0m                                 Traceback (most recent call last)",
      "\u001b[1;32m<ipython-input-18-b070b14dc837>\u001b[0m in \u001b[0;36m<module>\u001b[1;34m\u001b[0m\n\u001b[1;32m----> 1\u001b[1;33m \u001b[0mmodel_train_mae\u001b[0m \u001b[1;33m,\u001b[0m \u001b[0mmodel_train_rmse\u001b[0m\u001b[1;33m,\u001b[0m \u001b[0mmodel_train_r2\u001b[0m \u001b[1;33m=\u001b[0m \u001b[0mevaluate_model\u001b[0m\u001b[1;33m(\u001b[0m\u001b[0my_train\u001b[0m\u001b[1;33m,\u001b[0m \u001b[0my_train_pred\u001b[0m\u001b[1;33m)\u001b[0m\u001b[1;33m\u001b[0m\u001b[1;33m\u001b[0m\u001b[0m\n\u001b[0m\u001b[0;32m      2\u001b[0m \u001b[1;33m\u001b[0m\u001b[0m\n\u001b[0;32m      3\u001b[0m \u001b[0mmodel_test_mae\u001b[0m \u001b[1;33m,\u001b[0m \u001b[0mmodel_test_rmse\u001b[0m\u001b[1;33m,\u001b[0m \u001b[0mmodel_test_r2\u001b[0m \u001b[1;33m=\u001b[0m \u001b[0mevaluate_model\u001b[0m\u001b[1;33m(\u001b[0m\u001b[0my_test\u001b[0m\u001b[1;33m,\u001b[0m \u001b[0my_test_pred\u001b[0m\u001b[1;33m)\u001b[0m\u001b[1;33m\u001b[0m\u001b[1;33m\u001b[0m\u001b[0m\n",
      "\u001b[1;31mNameError\u001b[0m: name 'y_train_pred' is not defined"
     ]
    }
   ],
   "source": []
  },
  {
   "cell_type": "code",
   "execution_count": null,
   "metadata": {},
   "outputs": [],
   "source": []
  }
 ],
 "metadata": {
  "kernelspec": {
   "display_name": "Python 3",
   "language": "python",
   "name": "python3"
  },
  "language_info": {
   "codemirror_mode": {
    "name": "ipython",
    "version": 3
   },
   "file_extension": ".py",
   "mimetype": "text/x-python",
   "name": "python",
   "nbconvert_exporter": "python",
   "pygments_lexer": "ipython3",
   "version": "3.8.2"
  }
 },
 "nbformat": 4,
 "nbformat_minor": 4
}
